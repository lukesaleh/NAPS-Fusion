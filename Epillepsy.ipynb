{
 "cells": [
  {
   "cell_type": "code",
   "execution_count": 4,
   "id": "ff3ae14d",
   "metadata": {},
   "outputs": [
    {
     "name": "stdout",
     "output_type": "stream",
     "text": [
      "      Unnamed   X1   X2   X3   X4   X5   X6   X7   X8   X9  ...  X170  X171  \\\n",
      "0  X21.V1.791  135  190  229  223  192  125   55   -9  -33  ...   -17   -15   \n",
      "1  X15.V1.924  386  382  356  331  320  315  307  272  244  ...   164   150   \n",
      "2     X8.V1.1  -32  -39  -47  -37  -32  -36  -57  -73  -85  ...    57    64   \n",
      "3   X16.V1.60 -105 -101  -96  -92  -89  -95 -102 -100  -87  ...   -82   -81   \n",
      "4   X20.V1.54   -9  -65  -98 -102  -78  -48  -16    0  -21  ...     4     2   \n",
      "\n",
      "   X172  X173  X174  X175  X176  X177  X178  y  \n",
      "0   -31   -77  -103  -127  -116   -83   -51  4  \n",
      "1   146   152   157   156   154   143   129  1  \n",
      "2    48    19   -12   -30   -35   -35   -36  5  \n",
      "3   -80   -77   -85   -77   -72   -69   -65  5  \n",
      "4   -12   -32   -41   -65   -83   -89   -73  5  \n",
      "\n",
      "[5 rows x 180 columns]\n"
     ]
    }
   ],
   "source": [
    "import pandas as pd\n",
    "\n",
    "# Load the dataset from the local file\n",
    "data = pd.read_csv('Epileptic Seizure Recognition.csv')\n",
    "\n",
    "# Display the first few rows of the dataset\n",
    "print(data.head())\n",
    "\n"
   ]
  },
  {
   "cell_type": "code",
   "execution_count": 6,
   "id": "6669f75b",
   "metadata": {},
   "outputs": [],
   "source": [
    "# Structure of the Dataset:\n",
    "# Rows (Samples):\n",
    "# Number of Features: 178 features.\n",
    "# Number of Classes: 5 classes (seizure-related vs non-seizure).\n",
    "# There are 11,500 samples (rows) in the dataset.\n",
    "# Each row represents a 1-second long segment of EEG recording that contains 178 data points, corresponding to different time-series measurements of the electrical activity in the brain.\n",
    "# Columns (Features):\n",
    "\n",
    "# The dataset has 179 columns in total.\n",
    "# The first 178 columns are the features, representing the EEG data points for each second of recording.\n",
    "# The 179th column is the label column, indicating the class or condition of the brain activity.\n",
    "# Class Labels (5 classes):\n",
    "\n",
    "# 1: Recording during seizure activity.\n",
    "# 2: Recording from the tumor region but without seizure.\n",
    "# 3: Recording from the healthy region of the brain.\n",
    "# 4: Recording when the patient's eyes are closed (non-seizure).\n",
    "# 5: Recording when the patient's eyes are open (non-seizure).\n",
    "# Data Points:\n",
    "\n",
    "# Each row contains 178 numerical attributes, which are the EEG signal amplitudes measured over time.\n",
    "# The dataset is structured such that each sample can be classified into one of the five categories, with class 1 being the most important for detecting seizures."
   ]
  }
 ],
 "metadata": {
  "kernelspec": {
   "display_name": "Python 3 (ipykernel)",
   "language": "python",
   "name": "python3"
  },
  "language_info": {
   "codemirror_mode": {
    "name": "ipython",
    "version": 3
   },
   "file_extension": ".py",
   "mimetype": "text/x-python",
   "name": "python",
   "nbconvert_exporter": "python",
   "pygments_lexer": "ipython3",
   "version": "3.9.13"
  }
 },
 "nbformat": 4,
 "nbformat_minor": 5
}
