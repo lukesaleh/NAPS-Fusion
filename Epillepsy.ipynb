{
 "cells": [
  {
   "cell_type": "code",
   "execution_count": 3,
   "id": "ff3ae14d",
   "metadata": {},
   "outputs": [],
   "source": [
    "import pandas as pd\n",
    "import numpy as np\n"
   ]
  },
  {
   "cell_type": "code",
   "execution_count": 4,
   "id": "fc9f3da9",
   "metadata": {},
   "outputs": [
    {
     "name": "stdout",
     "output_type": "stream",
     "text": [
      "      Unnamed   X1   X2   X3   X4   X5   X6   X7   X8   X9  ...  X170  X171  \\\n",
      "0  X21.V1.791  135  190  229  223  192  125   55   -9  -33  ...   -17   -15   \n",
      "1  X15.V1.924  386  382  356  331  320  315  307  272  244  ...   164   150   \n",
      "2     X8.V1.1  -32  -39  -47  -37  -32  -36  -57  -73  -85  ...    57    64   \n",
      "3   X16.V1.60 -105 -101  -96  -92  -89  -95 -102 -100  -87  ...   -82   -81   \n",
      "4   X20.V1.54   -9  -65  -98 -102  -78  -48  -16    0  -21  ...     4     2   \n",
      "\n",
      "   X172  X173  X174  X175  X176  X177  X178  y  \n",
      "0   -31   -77  -103  -127  -116   -83   -51  4  \n",
      "1   146   152   157   156   154   143   129  1  \n",
      "2    48    19   -12   -30   -35   -35   -36  5  \n",
      "3   -80   -77   -85   -77   -72   -69   -65  5  \n",
      "4   -12   -32   -41   -65   -83   -89   -73  5  \n",
      "\n",
      "[5 rows x 180 columns]\n"
     ]
    }
   ],
   "source": [
    "# Load the dataset from the local file\n",
    "data = pd.read_csv('Epileptic Seizure Recognition.csv')\n",
    "data.to_csv('epilepsy.csv')\n",
    "\n",
    "df_new = data.drop(['Unnamed'],axis=1)\n",
    "df_new.to_csv('../data/epilepsy.csv', index=False)\n",
    "y = data['y'].to_numpy()\n",
    "x = df_new.to_numpy()\n",
    "# Display the first few rows of the dataset\n",
    "print(data.head())\n",
    "\n"
   ]
  },
  {
   "cell_type": "code",
   "execution_count": 6,
   "id": "6669f75b",
   "metadata": {},
   "outputs": [],
   "source": [
    "# Structure of the Dataset:\n",
    "# Rows (Samples):\n",
    "# Number of Features: 178 features.\n",
    "# Number of Classes: 5 classes (seizure-related vs non-seizure).\n",
    "# There are 11,500 samples (rows) in the dataset.\n",
    "# Each row represents a 1-second long segment of EEG recording that contains 178 data points, corresponding to different time-series measurements of the electrical activity in the brain.\n",
    "# Columns (Features):\n",
    "\n",
    "# The dataset has 179 columns in total.\n",
    "# The first 178 columns are the features, representing the EEG data points for each second of recording.\n",
    "# The 179th column is the label column, indicating the class or condition of the brain activity.\n",
    "# Class Labels (5 classes):\n",
    "\n",
    "# 1: Recording during seizure activity.\n",
    "# 2: Recording from the tumor region but without seizure.\n",
    "# 3: Recording from the healthy region of the brain.\n",
    "# 4: Recording when the patient's eyes are closed (non-seizure).\n",
    "# 5: Recording when the patient's eyes are open (non-seizure).\n",
    "# Data Points:\n",
    "\n",
    "# Each row contains 178 numerical attributes, which are the EEG signal amplitudes measured over time.\n",
    "# The dataset is structured such that each sample can be classified into one of the five categories, with class 1 being the most important for detecting seizures."
   ]
  },
  {
   "cell_type": "code",
   "execution_count": 7,
   "id": "68e305e4",
   "metadata": {},
   "outputs": [],
   "source": [
    "def correlations(data_array, target_array):\n",
    "    correlations = []\n",
    "    for col in range(data_array.shape[1]):\n",
    "        column = data_array[:, col]\n",
    "        correlation = np.corrcoef(column, target_array)[0, 1]  # Correlation between column and target\n",
    "        correlations.append(correlation)\n",
    "\n",
    "    return np.array(correlations)"
   ]
  },
  {
   "cell_type": "code",
   "execution_count": 12,
   "id": "7f54b145",
   "metadata": {},
   "outputs": [],
   "source": [
    "corrs = correlations(x,y)"
   ]
  },
  {
   "cell_type": "code",
   "execution_count": 14,
   "id": "c70484f4",
   "metadata": {},
   "outputs": [
    {
     "name": "stdout",
     "output_type": "stream",
     "text": [
      "[ 0.02237466  0.01915436  0.01346906  0.00476269 -0.00659672 -0.01825588\n",
      " -0.02642169 -0.02747807 -0.02945193 -0.03445892 -0.03805648 -0.03537895\n",
      " -0.02594589 -0.01822883 -0.01323408 -0.01111903 -0.01024499 -0.00943358\n",
      " -0.01008148 -0.01140073 -0.01351987 -0.01362608 -0.01330809 -0.01701149\n",
      " -0.02405514 -0.03146622 -0.03088207 -0.02660089 -0.02051289 -0.01801652\n",
      " -0.01708753 -0.01865538 -0.02109845 -0.02401721 -0.02450336 -0.01940586\n",
      " -0.01142848 -0.00468699 -0.00213847 -0.00579046 -0.01557608 -0.028724\n",
      " -0.03831979 -0.04049922 -0.03356828 -0.0214829  -0.00968038 -0.00014164\n",
      "  0.00418121  0.00719068  0.00618202  0.00309919 -0.00487026 -0.01320945\n",
      " -0.0195134  -0.02060135 -0.01550487 -0.00400597  0.00958379  0.01939117\n",
      "  0.02172349  0.01728953  0.00696933 -0.00428006 -0.01177114 -0.01877258\n",
      " -0.02275054 -0.02594813 -0.02557272 -0.02483341 -0.02336819 -0.02372923\n",
      " -0.02020758 -0.01400318 -0.00578104 -0.00087183 -0.00122838 -0.00384151\n",
      " -0.00362195  0.00155687  0.0101576   0.01704364  0.01977797  0.01902123\n",
      "  0.01594476  0.01205328  0.00580738  0.0017179  -0.00062733 -0.00314002\n",
      " -0.00709976 -0.01439289 -0.02142202 -0.02743579 -0.02913025 -0.02781469\n",
      " -0.02568303 -0.02104466 -0.01645803 -0.01150388 -0.01218038 -0.01627103\n",
      " -0.01715878 -0.01266125 -0.00537449  0.00248496  0.00562733  0.00540397\n",
      "  0.00794733  0.00772369  0.00511382  0.00111903  0.00026439  0.00402322\n",
      "  0.00814812  0.01153281  0.00903222  0.00349835 -0.00375311 -0.01024473\n",
      " -0.0086852  -0.00065451  0.01219541  0.01981072  0.02186612  0.01616761\n",
      "  0.00802725  0.00140623 -0.00604624 -0.00963479 -0.01059358 -0.00872249\n",
      " -0.00646405 -0.01049793 -0.01693914 -0.02038453 -0.02231867 -0.01925206\n",
      " -0.01619705 -0.01431656 -0.01295518 -0.01042642 -0.00756514 -0.00416824\n",
      " -0.0053804  -0.00953235 -0.01451555 -0.0184591  -0.01962687 -0.01950463\n",
      " -0.01838613 -0.01844803 -0.01706464 -0.01724635 -0.01985242 -0.02517879\n",
      " -0.02998399 -0.03480509 -0.03350525 -0.03152074 -0.02449561 -0.01430496\n",
      " -0.00430459  0.00171915  0.00328313  0.00155945  0.00011263 -0.00192067\n",
      " -0.00117707  0.00270717  0.01258858  0.02289256  0.02917235  0.02856331\n",
      "  0.0284252   0.02725947  0.02615574  0.02516835]\n",
      "0.029172347648291665\n"
     ]
    }
   ],
   "source": [
    "print(corrs)\n",
    "print(np.max(corrs))"
   ]
  },
  {
   "cell_type": "code",
   "execution_count": 5,
   "id": "341cc080",
   "metadata": {},
   "outputs": [],
   "source": [
    "from sklearn.decomposition import PCA\n",
    "pca = PCA(n_components=20)\n"
   ]
  },
  {
   "cell_type": "code",
   "execution_count": 6,
   "id": "2fa8a76c",
   "metadata": {},
   "outputs": [
    {
     "name": "stdout",
     "output_type": "stream",
     "text": [
      "[0.05587618 0.05256036 0.04952756 0.04824032 0.04444949 0.04144632\n",
      " 0.04065098 0.03923183 0.03621733 0.03446312 0.03296624 0.03239918\n",
      " 0.02966738 0.02917025 0.02569377 0.02383212 0.02161517 0.0206643\n",
      " 0.0201929  0.01940261]\n"
     ]
    }
   ],
   "source": [
    "pca.fit(x)\n",
    "print(pca.explained_variance_ratio_)"
   ]
  }
 ],
 "metadata": {
  "kernelspec": {
   "display_name": "naps-fusion",
   "language": "python",
   "name": "python3"
  },
  "language_info": {
   "codemirror_mode": {
    "name": "ipython",
    "version": 3
   },
   "file_extension": ".py",
   "mimetype": "text/x-python",
   "name": "python",
   "nbconvert_exporter": "python",
   "pygments_lexer": "ipython3",
   "version": "3.12.5"
  }
 },
 "nbformat": 4,
 "nbformat_minor": 5
}
